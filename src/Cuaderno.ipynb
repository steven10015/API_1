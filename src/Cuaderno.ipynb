{
 "cells": [
  {
   "cell_type": "code",
   "execution_count": 84,
   "id": "72bb43f1",
   "metadata": {},
   "outputs": [],
   "source": [
    "import os\n",
    "import pandas as pd\n",
    "import matplotlib.pyplot as plt\n",
    "import seaborn as sns\n",
    "from dotenv import load_dotenv\n"
   ]
  },
  {
   "cell_type": "code",
   "execution_count": 85,
   "id": "67b2c89a",
   "metadata": {},
   "outputs": [],
   "source": [
    "# load the .env file variables\n",
    "load_dotenv()\n",
    "\n",
    "# Spotify API credentials\n",
    "client_id = os.environ.get(\"CLIENT_ID\")\n",
    "client_secret = os.environ.get(\"CLIENT_SECRET\")"
   ]
  },
  {
   "cell_type": "code",
   "execution_count": 86,
   "id": "36b0cde9",
   "metadata": {},
   "outputs": [],
   "source": [
    "# Importar spotipy\n",
    "import spotipy\n",
    "from spotipy.oauth2 import SpotifyClientCredentials\n",
    "auth_manager = SpotifyClientCredentials(client_id=client_id, client_secret=client_secret)\n",
    "spotify = spotipy.Spotify(auth_manager=auth_manager)"
   ]
  },
  {
   "cell_type": "code",
   "execution_count": 87,
   "id": "6d54c4a7",
   "metadata": {},
   "outputs": [],
   "source": [
    "# Seleccionar artista\n",
    "id_artist = \"7Ln80lUS6He07XvHI8qqHH\"\n",
    "# Seleccionar tracks\n",
    "top_tracks = spotify.artist_top_tracks(id_artist)\n",
    "\n",
    "songs = []\n",
    "for track in top_tracks['tracks']:\n",
    "    songs.append({\n",
    "        'name': track['name'],\n",
    "        'popularity': track['popularity'],\n",
    "        'duration_min': track['duration_ms'] / 60000\n",
    "    })\n"
   ]
  },
  {
   "cell_type": "code",
   "execution_count": 102,
   "id": "a70366fe",
   "metadata": {},
   "outputs": [
    {
     "data": {
      "text/html": [
       "<div>\n",
       "<style scoped>\n",
       "    .dataframe tbody tr th:only-of-type {\n",
       "        vertical-align: middle;\n",
       "    }\n",
       "\n",
       "    .dataframe tbody tr th {\n",
       "        vertical-align: top;\n",
       "    }\n",
       "\n",
       "    .dataframe thead th {\n",
       "        text-align: right;\n",
       "    }\n",
       "</style>\n",
       "<table border=\"1\" class=\"dataframe\">\n",
       "  <thead>\n",
       "    <tr style=\"text-align: right;\">\n",
       "      <th></th>\n",
       "      <th>name</th>\n",
       "      <th>popularity</th>\n",
       "      <th>duration_min</th>\n",
       "    </tr>\n",
       "  </thead>\n",
       "  <tbody>\n",
       "    <tr>\n",
       "      <th>9</th>\n",
       "      <td>Arabella</td>\n",
       "      <td>75</td>\n",
       "      <td>3.455933</td>\n",
       "    </tr>\n",
       "    <tr>\n",
       "      <th>8</th>\n",
       "      <td>Knee Socks</td>\n",
       "      <td>75</td>\n",
       "      <td>4.292717</td>\n",
       "    </tr>\n",
       "    <tr>\n",
       "      <th>6</th>\n",
       "      <td>Fluorescent Adolescent</td>\n",
       "      <td>77</td>\n",
       "      <td>3.064883</td>\n",
       "    </tr>\n",
       "  </tbody>\n",
       "</table>\n",
       "</div>"
      ],
      "text/plain": [
       "                     name  popularity  duration_min\n",
       "9                Arabella          75      3.455933\n",
       "8              Knee Socks          75      4.292717\n",
       "6  Fluorescent Adolescent          77      3.064883"
      ]
     },
     "execution_count": 102,
     "metadata": {},
     "output_type": "execute_result"
    }
   ],
   "source": [
    "df_songs = pd.DataFrame(songs)\n",
    "df_songs_sorted = df_songs.sort_values(by='popularity', ascending=True)\n",
    "df_songs_sorted.head(3)"
   ]
  },
  {
   "cell_type": "markdown",
   "id": "8c98af92",
   "metadata": {},
   "source": [
    "## Análisis de los datos"
   ]
  },
  {
   "cell_type": "code",
   "execution_count": 104,
   "id": "8820d143",
   "metadata": {},
   "outputs": [
    {
     "data": {
      "text/plain": [
       "<Axes: xlabel='duration_min', ylabel='popularity'>"
      ]
     },
     "execution_count": 104,
     "metadata": {},
     "output_type": "execute_result"
    },
    {
     "data": {
      "image/png": "[encoded data removed]",
      "text/plain": [
       "<Figure size 640x480 with 1 Axes>"
      ]
     },
     "metadata": {},
     "output_type": "display_data"
    }
   ],
   "source": [
    "# No realicé más personalizaciones porque no se visualizaban en el gráfico\n",
    "sns.scatterplot(data = df_songs_sorted, x = \"duration_min\", y = \"popularity\")"
   ]
  },
  {
   "cell_type": "markdown",
   "id": "1247b061",
   "metadata": {},
   "source": [
    "No se observa ninguna correlación entre la duración de la canción y su popularidad."
   ]
  }
 ],
 "metadata": {
  "kernelspec": {
   "display_name": "Python 3",
   "language": "python",
   "name": "python3"
  },
  "language_info": {
   "codemirror_mode": {
    "name": "ipython",
    "version": 3
   },
   "file_extension": ".py",
   "mimetype": "text/x-python",
   "name": "python",
   "nbconvert_exporter": "python",
   "pygments_lexer": "ipython3",
   "version": "3.11.4"
  }
 },
 "nbformat": 4,
 "nbformat_minor": 5
}
